{
 "cells": [
  {
   "cell_type": "code",
   "execution_count": 1,
   "id": "7b4337cc",
   "metadata": {},
   "outputs": [],
   "source": [
    "def get_calc(mynum):\n",
    "    print(\"orginial number is :\",  mynum)\n",
    "    print(\"Square root of number is :\",  mynum**0.5)\n",
    "    print(\"square of the number is :\", mynum**2)\n",
    "    print(\"cube of the number is :\", mynum**3)\n",
    "    "
   ]
  },
  {
   "cell_type": "code",
   "execution_count": 2,
   "id": "2eb7c315",
   "metadata": {},
   "outputs": [
    {
     "name": "stdout",
     "output_type": "stream",
     "text": [
      "orginial number is : 3\n",
      "Square root of number is : 1.7320508075688772\n",
      "square of the number is : 9\n",
      "cube of the number is : 27\n"
     ]
    }
   ],
   "source": [
    "get_calc(3)"
   ]
  },
  {
   "cell_type": "code",
   "execution_count": 12,
   "id": "4a80b9de",
   "metadata": {},
   "outputs": [
    {
     "name": "stdout",
     "output_type": "stream",
     "text": [
      "3 kg\n"
     ]
    }
   ],
   "source": [
    "myweight=3\n",
    "\n",
    "print(myweight, \"kg\")"
   ]
  },
  {
   "cell_type": "code",
   "execution_count": 13,
   "id": "9ca58381",
   "metadata": {},
   "outputs": [],
   "source": [
    "def calckm(m):\n",
    "    return m*100"
   ]
  },
  {
   "cell_type": "code",
   "execution_count": 14,
   "id": "12047154",
   "metadata": {},
   "outputs": [
    {
     "data": {
      "text/plain": [
       "200"
      ]
     },
     "execution_count": 14,
     "metadata": {},
     "output_type": "execute_result"
    }
   ],
   "source": [
    "calckm(2)"
   ]
  },
  {
   "cell_type": "code",
   "execution_count": 17,
   "id": "959db81a",
   "metadata": {},
   "outputs": [
    {
     "name": "stdout",
     "output_type": "stream",
     "text": [
      "do you have kid? yes\n"
     ]
    }
   ],
   "source": [
    "x=input(\"do you have kid? \")\n",
    "def married_or_not(x):\n",
    "        if x == 'yes':\n",
    "            print(\"married\")\n",
    "        else:\n",
    "            print(\"unmarried\")"
   ]
  }
 ],
 "metadata": {
  "kernelspec": {
   "display_name": "Python 3",
   "language": "python",
   "name": "python3"
  },
  "language_info": {
   "codemirror_mode": {
    "name": "ipython",
    "version": 3
   },
   "file_extension": ".py",
   "mimetype": "text/x-python",
   "name": "python",
   "nbconvert_exporter": "python",
   "pygments_lexer": "ipython3",
   "version": "3.9.5"
  }
 },
 "nbformat": 4,
 "nbformat_minor": 5
}
